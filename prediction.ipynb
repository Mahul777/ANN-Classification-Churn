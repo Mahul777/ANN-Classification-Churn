{
 "cells": [
  {
   "cell_type": "code",
   "execution_count": null,
   "id": "b593964a",
   "metadata": {},
   "outputs": [
    {
     "name": "stderr",
     "output_type": "stream",
     "text": [
      "WARNING:absl:Compiled the loaded model, but the compiled metrics have yet to be built. `model.compile_metrics` will be empty until you train or evaluate the model.\n"
     ]
    },
    {
     "data": {
      "text/html": [
       "<pre style=\"white-space:pre;overflow-x:auto;line-height:normal;font-family:Menlo,'DejaVu Sans Mono',consolas,'Courier New',monospace\"><span style=\"font-weight: bold\">Model: \"sequential_7\"</span>\n",
       "</pre>\n"
      ],
      "text/plain": [
       "\u001b[1mModel: \"sequential_7\"\u001b[0m\n"
      ]
     },
     "metadata": {},
     "output_type": "display_data"
    },
    {
     "data": {
      "text/html": [
       "<pre style=\"white-space:pre;overflow-x:auto;line-height:normal;font-family:Menlo,'DejaVu Sans Mono',consolas,'Courier New',monospace\">┏━━━━━━━━━━━━━━━━━━━━━━━━━━━━━━━━━┳━━━━━━━━━━━━━━━━━━━━━━━━┳━━━━━━━━━━━━━━━┓\n",
       "┃<span style=\"font-weight: bold\"> Layer (type)                    </span>┃<span style=\"font-weight: bold\"> Output Shape           </span>┃<span style=\"font-weight: bold\">       Param # </span>┃\n",
       "┡━━━━━━━━━━━━━━━━━━━━━━━━━━━━━━━━━╇━━━━━━━━━━━━━━━━━━━━━━━━╇━━━━━━━━━━━━━━━┩\n",
       "│ dense_15 (<span style=\"color: #0087ff; text-decoration-color: #0087ff\">Dense</span>)                │ (<span style=\"color: #00d7ff; text-decoration-color: #00d7ff\">None</span>, <span style=\"color: #00af00; text-decoration-color: #00af00\">64</span>)             │           <span style=\"color: #00af00; text-decoration-color: #00af00\">832</span> │\n",
       "├─────────────────────────────────┼────────────────────────┼───────────────┤\n",
       "│ dense_16 (<span style=\"color: #0087ff; text-decoration-color: #0087ff\">Dense</span>)                │ (<span style=\"color: #00d7ff; text-decoration-color: #00d7ff\">None</span>, <span style=\"color: #00af00; text-decoration-color: #00af00\">32</span>)             │         <span style=\"color: #00af00; text-decoration-color: #00af00\">2,080</span> │\n",
       "├─────────────────────────────────┼────────────────────────┼───────────────┤\n",
       "│ dense_17 (<span style=\"color: #0087ff; text-decoration-color: #0087ff\">Dense</span>)                │ (<span style=\"color: #00d7ff; text-decoration-color: #00d7ff\">None</span>, <span style=\"color: #00af00; text-decoration-color: #00af00\">1</span>)              │            <span style=\"color: #00af00; text-decoration-color: #00af00\">33</span> │\n",
       "└─────────────────────────────────┴────────────────────────┴───────────────┘\n",
       "</pre>\n"
      ],
      "text/plain": [
       "┏━━━━━━━━━━━━━━━━━━━━━━━━━━━━━━━━━┳━━━━━━━━━━━━━━━━━━━━━━━━┳━━━━━━━━━━━━━━━┓\n",
       "┃\u001b[1m \u001b[0m\u001b[1mLayer (type)                   \u001b[0m\u001b[1m \u001b[0m┃\u001b[1m \u001b[0m\u001b[1mOutput Shape          \u001b[0m\u001b[1m \u001b[0m┃\u001b[1m \u001b[0m\u001b[1m      Param #\u001b[0m\u001b[1m \u001b[0m┃\n",
       "┡━━━━━━━━━━━━━━━━━━━━━━━━━━━━━━━━━╇━━━━━━━━━━━━━━━━━━━━━━━━╇━━━━━━━━━━━━━━━┩\n",
       "│ dense_15 (\u001b[38;5;33mDense\u001b[0m)                │ (\u001b[38;5;45mNone\u001b[0m, \u001b[38;5;34m64\u001b[0m)             │           \u001b[38;5;34m832\u001b[0m │\n",
       "├─────────────────────────────────┼────────────────────────┼───────────────┤\n",
       "│ dense_16 (\u001b[38;5;33mDense\u001b[0m)                │ (\u001b[38;5;45mNone\u001b[0m, \u001b[38;5;34m32\u001b[0m)             │         \u001b[38;5;34m2,080\u001b[0m │\n",
       "├─────────────────────────────────┼────────────────────────┼───────────────┤\n",
       "│ dense_17 (\u001b[38;5;33mDense\u001b[0m)                │ (\u001b[38;5;45mNone\u001b[0m, \u001b[38;5;34m1\u001b[0m)              │            \u001b[38;5;34m33\u001b[0m │\n",
       "└─────────────────────────────────┴────────────────────────┴───────────────┘\n"
      ]
     },
     "metadata": {},
     "output_type": "display_data"
    },
    {
     "data": {
      "text/html": [
       "<pre style=\"white-space:pre;overflow-x:auto;line-height:normal;font-family:Menlo,'DejaVu Sans Mono',consolas,'Courier New',monospace\"><span style=\"font-weight: bold\"> Total params: </span><span style=\"color: #00af00; text-decoration-color: #00af00\">2,947</span> (11.52 KB)\n",
       "</pre>\n"
      ],
      "text/plain": [
       "\u001b[1m Total params: \u001b[0m\u001b[38;5;34m2,947\u001b[0m (11.52 KB)\n"
      ]
     },
     "metadata": {},
     "output_type": "display_data"
    },
    {
     "data": {
      "text/html": [
       "<pre style=\"white-space:pre;overflow-x:auto;line-height:normal;font-family:Menlo,'DejaVu Sans Mono',consolas,'Courier New',monospace\"><span style=\"font-weight: bold\"> Trainable params: </span><span style=\"color: #00af00; text-decoration-color: #00af00\">2,945</span> (11.50 KB)\n",
       "</pre>\n"
      ],
      "text/plain": [
       "\u001b[1m Trainable params: \u001b[0m\u001b[38;5;34m2,945\u001b[0m (11.50 KB)\n"
      ]
     },
     "metadata": {},
     "output_type": "display_data"
    },
    {
     "data": {
      "text/html": [
       "<pre style=\"white-space:pre;overflow-x:auto;line-height:normal;font-family:Menlo,'DejaVu Sans Mono',consolas,'Courier New',monospace\"><span style=\"font-weight: bold\"> Non-trainable params: </span><span style=\"color: #00af00; text-decoration-color: #00af00\">0</span> (0.00 B)\n",
       "</pre>\n"
      ],
      "text/plain": [
       "\u001b[1m Non-trainable params: \u001b[0m\u001b[38;5;34m0\u001b[0m (0.00 B)\n"
      ]
     },
     "metadata": {},
     "output_type": "display_data"
    },
    {
     "data": {
      "text/html": [
       "<pre style=\"white-space:pre;overflow-x:auto;line-height:normal;font-family:Menlo,'DejaVu Sans Mono',consolas,'Courier New',monospace\"><span style=\"font-weight: bold\"> Optimizer params: </span><span style=\"color: #00af00; text-decoration-color: #00af00\">2</span> (12.00 B)\n",
       "</pre>\n"
      ],
      "text/plain": [
       "\u001b[1m Optimizer params: \u001b[0m\u001b[38;5;34m2\u001b[0m (12.00 B)\n"
      ]
     },
     "metadata": {},
     "output_type": "display_data"
    },
    {
     "name": "stdout",
     "output_type": "stream",
     "text": [
      "\u001b[1m1/1\u001b[0m \u001b[32m━━━━━━━━━━━━━━━━━━━━\u001b[0m\u001b[37m\u001b[0m \u001b[1m0s\u001b[0m 61ms/step\n",
      "Prediction Probability: 0.03495315\n",
      "Customer is NOT likely to churn.\n"
     ]
    },
    {
     "name": "stderr",
     "output_type": "stream",
     "text": [
      "c:\\Python311\\Lib\\site-packages\\sklearn\\utils\\validation.py:2749: UserWarning: X does not have valid feature names, but OneHotEncoder was fitted with feature names\n",
      "  warnings.warn(\n"
     ]
    }
   ],
   "source": [
    "# 🧩 1. Load Required Libraries\n",
    "import tensorflow as tf\n",
    "from tensorflow.keras.models import load_model\n",
    "import pickle\n",
    "import pandas as pd\n",
    "import numpy as np\n",
    "\n",
    "# 🧠 Why?\n",
    "# •\tpickle: to load .pkl files (like encoders and scalers).\n",
    "# •\tpandas: to handle input data.\n",
    "# •\tload_model: to load the trained .h5 model.\n",
    "\n",
    "# 📂 2. Load the Trained Model\n",
    "model = load_model('model.h5')\n",
    "# 🧠 Why?\n",
    "# •\tWe trained the model earlier and saved it as .h5. Now we're loading it for prediction.\n",
    "\n",
    "model.summary()\n",
    "\n",
    "# Model: \"sequential_7\"\n",
    "# ┌─────────────────────────────┬──────────────────────┬─────────────┐\n",
    "# │ Layer (type)                │ Output Shape         │ Param #     │\n",
    "# ├─────────────────────────────┼──────────────────────┼─────────────┤\n",
    "# │ dense_15 (Dense)            │ (None, 64)           │        832  │\n",
    "# │ dense_16 (Dense)            │ (None, 32)           │      2,080  │\n",
    "# │ dense_17 (Dense)            │ (None, 1)            │         33  │\n",
    "# └─────────────────────────────┴──────────────────────┴─────────────┘\n",
    "#  Total params: 2,947 (11.52 KB)\n",
    "#  Optimizer params: 2 (12.00 B)\n",
    "\n",
    "# 🧠 3. Load the Saved Encoders & Scalers \n",
    "with open(\"one_hot_encoder_geo.pkl\", \"rb\") as f:\n",
    "    one_hot_encoder_geo = pickle.load(f)\n",
    "\n",
    "with open(\"label_encoder_gender.pkl\", \"rb\") as f:\n",
    "    label_encoder_gender = pickle.load(f)\n",
    "\n",
    "with open(\"standard_scaler.pkl\", \"rb\") as f:\n",
    "    scaler = pickle.load(f)\n",
    "\n",
    "# 📌 We saved preprocessing objects (encoders, scaler) to .pkl so we can use exactly the same logic later.\n",
    "\n",
    "# 📝 4. Input New Customer Data for Prediction\n",
    "input_data = {\n",
    "    'CreditScore': 600,\n",
    "    'Geography': 'France',\n",
    "    'Gender': 'Male',\n",
    "    'Age': 40,\n",
    "    'Tenure': 3,\n",
    "    'Balance': 60000,\n",
    "    'NumOfProducts': 2,\n",
    "    'HasCrCard': 1,\n",
    "    'IsActiveMember': 1,\n",
    "    'EstimatedSalary': 50000\n",
    "}\n",
    "\n",
    "# 🔄 5. Convert to DataFrame\n",
    "input_df = pd.DataFrame([input_data])\n",
    "# input_df\n",
    "# ┌─────┬─────────────┬───────────┬────────┬─────┬────────┬───────────────┬───────────────┬────────────┬────────────────┬───────────────────┐\n",
    "# │     │ CreditScore │ Geography │ Gender │ Age │ Tenure │    Balance    │ NumOfProducts │ HasCrCard  │ IsActiveMember │ EstimatedSalary   │\n",
    "# ├─────┼─────────────┼───────────┼────────┼─────┼────────┼───────────────┼───────────────┼────────────┼────────────────┼───────────────────┤\n",
    "# │  0  │     600     │  France   │  Male  │ 40  │   3    │    60000      │       2       │      1     │        1       │       50000       │\n",
    "# └─\n",
    "\n",
    "# 🏷️ 6. One Hot Encode 'Geography' Feature\n",
    "geo_encoded = one_hot_encoder_geo.transform([[input_df[\"Geography\"][0]]])\n",
    "geo_encoded_df = pd.DataFrame(geo_encoded.toarray(), columns=one_hot_encoder_geo.get_feature_names_out(['Geography']))\n",
    "geo_encoded_df\n",
    "# 📌 Geography is a categorical column (France, Germany, Spain) — we convert it into columns like:\n",
    "# ┌─────┬────────────────────┬───────────────────────┬────────────────────┐\n",
    "# │     │ Geography_France   │ Geography_Germany     │ Geography_Spain    │\n",
    "# ├─────┼────────────────────┼───────────────────────┼────────────────────┤\n",
    "# │  0  │        1.0         │         0.0           │        0.0         │\n",
    "# └─────┴────────────────────┴───────────────────────┴────────────────────┘\n",
    "\n",
    "\n",
    "# 🔄 7. Label Encode 'Gender' Feature \n",
    "input_df['Gender'] = label_encoder_gender.transform(input_df['Gender'])\n",
    "input_df\n",
    "# ┌─────┬─────────────┬───────────┬────────┬─────┬────────┬────────┬────────────────┬────────────┬────────────────┬───────────────────┐\n",
    "# │     │ CreditScore │ Geography │ Gender │ Age │ Tenure │ Balance│ NumOfProducts │ HasCrCard  │ IsActiveMember │ EstimatedSalary   │\n",
    "# ├─────┼─────────────┼───────────┼────────┼─────┼────────┼────────┼────────────────┼────────────┼────────────────┼───────────────────┤\n",
    "# │  0  │     600     │  France   │   1    │ 40  │   3    │ 60000  │       2        │     1      │        1       │       50000       │\n",
    "# └─────┴─────────────┴───────────┴────────┴─────┴────────┴────────┴────────────────┴────────────┴────────────────┴───────────────────┘\n",
    "\n",
    "# 🧩 8. Merge All Transformed Features into One DataFrame\n",
    "input_df = input_df.drop('Geography', axis=1)\n",
    "input_df = pd.concat([input_df, geo_encoded_df], axis=1)\n",
    "input_df\n",
    "# 🧠 Geography is now encoded — so we remove original 'Geography' column and add the one-hot version\n",
    "# ┌─────┬─────────────┬────────┬─────┬────────┬────────┬───────────────┬────────────┬────────────────┬───────────────────┬───────────────────┬───────────────────┬───────────────────┐\n",
    "# │     │ CreditScore │ Gender │ Age │ Tenure │ Balance│ NumOfProducts │ HasCrCard  │ IsActiveMember │ EstimatedSalary   │ Geography_France   │ Geography_Germany  │ Geography_Spain   │\n",
    "# ├─────┼─────────────┼────────┼─────┼────────┼────────┼───────────────┼────────────┼────────────────┼───────────────────┼───────────────────┼───────────────────┼───────────────────┤\n",
    "# │  0  │     600     │   1    │ 40  │   3    │ 60000  │       2       │     1      │        1       │       50000       │        1.0        │        0.0        │        0.0        │\n",
    "# └─────┴─────────────┴────────┴─────┴────────┴────────┴───────────────┴────────────┴────────────────┴───────────────────┴───────────────────┴───────────────────┴───────────────────┘\n",
    "\n",
    "# 📉 9. Scale All Features\n",
    "input_scaled = scaler.transform(input_df)\n",
    "input_scaled\n",
    "# array([[-0.53598516,  0.91324755,  0.10479359, -0.69539349, -0.25781119,\n",
    "#          0.80843615,  0.64920267,  0.97481699, -0.87683221,  1.00150113,\n",
    "#         -0.57946723, -0.57638802]])\n",
    "# 🧠 We apply the same standardization (mean=0, std=1) used during training.\n",
    "\n",
    "# 🔮 10. Predict with the Model\n",
    "prediction = model.predict(input_scaled)\n",
    "print(\"Prediction Probability:\", prediction[0][0])\n",
    "# 🧠 Output is a probability — how likely the customer is to leave the bank.\n",
    "# \u001b[1m1/1\u001b[0m \u001b[32m━━━━━━━━━━━━━━━━━━━━\u001b[0m\u001b[37m\u001b[0m \u001b[1m0s\u001b[0m 74ms/step\n",
    "# c:\\Python311\\Lib\\site-packages\\sklearn\\utils\\validation.py:2749: UserWarning: X does not have valid feature names, but OneHotEncoder was fitted with feature names\n",
    "#   warnings.warn(\n",
    "# Prediction Probability: 0.03495315\n",
    "\n",
    "# ✅ 11. Final Output – Binary Decision\n",
    "if prediction[0][0] > 0.5:\n",
    "    print(\"Customer is likely to churn.\")\n",
    "else:\n",
    "    print(\"Customer is NOT likely to churn.\")\n",
    "\n",
    "# Customer is NOT likely to churn.\n",
    "# 📌 If probability > 0.5 → churn\n",
    "# 📌 Else → no churn\n",
    "\n",
    "\n",
    "\n"
   ]
  }
 ],
 "metadata": {
  "kernelspec": {
   "display_name": "Python 3",
   "language": "python",
   "name": "python3"
  },
  "language_info": {
   "codemirror_mode": {
    "name": "ipython",
    "version": 3
   },
   "file_extension": ".py",
   "mimetype": "text/x-python",
   "name": "python",
   "nbconvert_exporter": "python",
   "pygments_lexer": "ipython3",
   "version": "3.11.0"
  }
 },
 "nbformat": 4,
 "nbformat_minor": 5
}
